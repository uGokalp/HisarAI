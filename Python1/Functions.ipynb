{
 "cells": [
  {
   "cell_type": "markdown",
   "metadata": {},
   "source": [
    "# Functions \n",
    "Functions in python, unless specified allways return none."
   ]
  },
  {
   "cell_type": "code",
   "execution_count": 5,
   "metadata": {},
   "outputs": [
    {
     "data": {
      "text/plain": [
       "NoneType"
      ]
     },
     "execution_count": 5,
     "metadata": {},
     "output_type": "execute_result"
    }
   ],
   "source": [
    "def foo():\n",
    "    a = 1\n",
    "type(foo())"
   ]
  },
  {
   "cell_type": "code",
   "execution_count": 6,
   "metadata": {},
   "outputs": [
    {
     "data": {
      "text/plain": [
       "int"
      ]
     },
     "execution_count": 6,
     "metadata": {},
     "output_type": "execute_result"
    }
   ],
   "source": [
    "def foo():\n",
    "    return 1\n",
    "type(foo())"
   ]
  },
  {
   "cell_type": "markdown",
   "metadata": {},
   "source": [
    "## Default arguments\n",
    "Optionally functions can have default arguments."
   ]
  },
  {
   "cell_type": "code",
   "execution_count": 18,
   "metadata": {},
   "outputs": [
    {
     "name": "stdout",
     "output_type": "stream",
     "text": [
      "Input one is 1\n",
      "Input two is 2\n",
      "\n",
      "Input one is 4\n",
      "Input two is 2\n",
      "\n",
      "Input one is 1\n",
      "Input two is 4\n"
     ]
    }
   ],
   "source": [
    "def bar(a=1,b=2):\n",
    "    print(\"Input one is\",a)\n",
    "    print(\"Input two is\",b)\n",
    "bar()\n",
    "# -----------------------------\n",
    "print()\n",
    "bar(4)\n",
    "# -----------------------------\n",
    "print()\n",
    "bar(b=4)"
   ]
  },
  {
   "cell_type": "markdown",
   "metadata": {},
   "source": [
    "# Args and Kwargs\n",
    "Functions in python can take variables that are not pre-specified.\n",
    "- ```*args``` is a tuple.\n",
    "- ```**kwargs``` is a dictionary. With kwargs you can unpack an iterable with **."
   ]
  },
  {
   "cell_type": "code",
   "execution_count": 27,
   "metadata": {},
   "outputs": [
    {
     "name": "stdout",
     "output_type": "stream",
     "text": [
      "(1, 2, 3)\n",
      "Type of args is <class 'tuple'>\n",
      "\n",
      "{'this': 'is', 'kwargs': '!'}\n",
      "Type of kwargs is <class 'dict'>\n"
     ]
    }
   ],
   "source": [
    "def foo(*args, **kwargs):\n",
    "    print(args)\n",
    "    print(\"Type of args is\", type(args))\n",
    "    print()\n",
    "    print(kwargs)\n",
    "    print(\"Type of kwargs is\", type(kwargs))\n",
    "my_keywords = a = {'this':'is', \"kwargs\":'!'}\n",
    "foo(1,2,3,**a)"
   ]
  },
  {
   "cell_type": "markdown",
   "metadata": {},
   "source": [
    "## Documentation"
   ]
  },
  {
   "cell_type": "code",
   "execution_count": 29,
   "metadata": {},
   "outputs": [],
   "source": [
    "def foo(a:int,b:int):\n",
    "    \"\"\"\n",
    "    This is a documentation. Here the arguments to the function should be exampled. \n",
    "    Type hinting if any can be in either in the arguments or here.\n",
    "    \n",
    "    Example doc:\n",
    "    This function adds two numbers.\n",
    "    a:int \n",
    "    b:int\n",
    "    returns the sum of two numbers\n",
    "    \"\"\"\n",
    "    \n",
    "    return a + b"
   ]
  },
  {
   "cell_type": "code",
   "execution_count": 31,
   "metadata": {},
   "outputs": [
    {
     "data": {
      "text/plain": [
       "\u001b[0;31mSignature:\u001b[0m \u001b[0mfoo\u001b[0m\u001b[0;34m(\u001b[0m\u001b[0ma\u001b[0m\u001b[0;34m:\u001b[0m \u001b[0mint\u001b[0m\u001b[0;34m,\u001b[0m \u001b[0mb\u001b[0m\u001b[0;34m:\u001b[0m \u001b[0mint\u001b[0m\u001b[0;34m)\u001b[0m\u001b[0;34m\u001b[0m\u001b[0;34m\u001b[0m\u001b[0m\n",
       "\u001b[0;31mDocstring:\u001b[0m\n",
       "This is a documentation. Here the arguments to the function should be exampled. \n",
       "Type hinting if any can be in either in the arguments or here.\n",
       "\n",
       "Example doc:\n",
       "This function adds two numbers.\n",
       "a:int \n",
       "b:int\n",
       "returns the sum of two numbers\n",
       "\u001b[0;31mFile:\u001b[0m      ~/HisarAI/Python1/<ipython-input-29-c2fe6344304d>\n",
       "\u001b[0;31mType:\u001b[0m      function\n"
      ]
     },
     "metadata": {},
     "output_type": "display_data"
    }
   ],
   "source": [
    "?foo"
   ]
  },
  {
   "cell_type": "code",
   "execution_count": null,
   "metadata": {},
   "outputs": [],
   "source": []
  }
 ],
 "metadata": {
  "kernelspec": {
   "display_name": "Python 3",
   "language": "python",
   "name": "python3"
  },
  "language_info": {
   "codemirror_mode": {
    "name": "ipython",
    "version": 3
   },
   "file_extension": ".py",
   "mimetype": "text/x-python",
   "name": "python",
   "nbconvert_exporter": "python",
   "pygments_lexer": "ipython3",
   "version": "3.7.5"
  }
 },
 "nbformat": 4,
 "nbformat_minor": 4
}
