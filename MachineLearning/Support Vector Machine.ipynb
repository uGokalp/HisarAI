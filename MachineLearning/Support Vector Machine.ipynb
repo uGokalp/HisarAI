{
 "cells": [
  {
   "cell_type": "markdown",
   "metadata": {},
   "source": [
    "[![StatQuest](https://img.youtube.com/vi/efR1C6CvhmE/0.jpg)](https://www.youtube.com/watch?v=efR1C6CvhmE)\n"
   ]
  },
  {
   "cell_type": "markdown",
   "metadata": {},
   "source": [
    "- Works best on small to medium sized datasets (somewhat expensive algorithm)\n",
    "- Benefits from feature scaling. Use hingle loss if you have scaled it.\n",
    "- \n",
    "- C parameter depends on how much misclassification you can tolerate."
   ]
  },
  {
   "cell_type": "markdown",
   "metadata": {},
   "source": []
  },
  {
   "cell_type": "markdown",
   "metadata": {},
   "source": []
  },
  {
   "cell_type": "markdown",
   "metadata": {},
   "source": []
  }
 ],
 "metadata": {
  "kernelspec": {
   "display_name": "Python 3",
   "language": "python",
   "name": "python3"
  },
  "language_info": {
   "codemirror_mode": {
    "name": "ipython",
    "version": 3
   },
   "file_extension": ".py",
   "mimetype": "text/x-python",
   "name": "python",
   "nbconvert_exporter": "python",
   "pygments_lexer": "ipython3",
   "version": "3.7.5"
  }
 },
 "nbformat": 4,
 "nbformat_minor": 4
}
