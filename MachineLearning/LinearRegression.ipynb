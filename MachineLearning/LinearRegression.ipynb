{
 "cells": [
  {
   "cell_type": "markdown",
   "metadata": {},
   "source": [
    "# Linear Regression"
   ]
  },
  {
   "cell_type": "markdown",
   "metadata": {},
   "source": [
    "[![augmented](https://img.youtube.com/vi/CtKeHnfK5uA/0.jpg)](https://www.youtube.com/watch?v=CtKeHnfK5uA)\n"
   ]
  },
  {
   "cell_type": "markdown",
   "metadata": {},
   "source": [
    "In its usual form regression aims to solve for the vector $w$ in $Aw=b$. Where $A$ is the data matrix, $w$ is the weight vector and $b$ is the dependent variable.\n",
    "\n",
    "The closed form __least squares solution__ is $(A^TA)w = A^Tw$\n",
    "\n",
    "The approach we will take is a bit different. We will apply __gradient descent__ to optimize this formula.\n",
    "\n",
    "$$J_{\\theta} = \\frac{1}{m}\\sum_{i=1}^{m}\\cdot\\frac{1}{2}\\cdot(h_{\\theta}(x^{(i)}) - y^{(i)})^2$$"
   ]
  },
  {
   "cell_type": "markdown",
   "metadata": {},
   "source": []
  },
  {
   "cell_type": "markdown",
   "metadata": {},
   "source": []
  },
  {
   "cell_type": "markdown",
   "metadata": {},
   "source": []
  },
  {
   "cell_type": "markdown",
   "metadata": {},
   "source": []
  }
 ],
 "metadata": {
  "kernelspec": {
   "display_name": "Python 3",
   "language": "python",
   "name": "python3"
  },
  "language_info": {
   "codemirror_mode": {
    "name": "ipython",
    "version": 3
   },
   "file_extension": ".py",
   "mimetype": "text/x-python",
   "name": "python",
   "nbconvert_exporter": "python",
   "pygments_lexer": "ipython3",
   "version": "3.7.5"
  }
 },
 "nbformat": 4,
 "nbformat_minor": 4
}
