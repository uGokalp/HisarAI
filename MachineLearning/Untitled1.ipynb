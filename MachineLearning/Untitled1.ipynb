{
 "cells": [
  {
   "cell_type": "markdown",
   "metadata": {
    "toc": true
   },
   "source": [
    "<h1>Table of Contents<span class=\"tocSkip\"></span></h1>\n",
    "<div class=\"toc\"><ul class=\"toc-item\"><li><span><a href=\"#Header-1\" data-toc-modified-id=\"Header-1-1\"><span class=\"toc-item-num\">1&nbsp;&nbsp;</span>Header 1</a></span></li></ul></div>"
   ]
  },
  {
   "cell_type": "code",
   "execution_count": null,
   "metadata": {},
   "outputs": [],
   "source": []
  },
  {
   "cell_type": "code",
   "execution_count": null,
   "metadata": {},
   "outputs": [],
   "source": []
  },
  {
   "cell_type": "code",
   "execution_count": null,
   "metadata": {},
   "outputs": [],
   "source": []
  },
  {
   "cell_type": "markdown",
   "metadata": {},
   "source": [
    "# Header 1\n"
   ]
  },
  {
   "cell_type": "code",
   "execution_count": 1,
   "metadata": {},
   "outputs": [],
   "source": [
    "s = '{\"Nikhil\" : 1, \"Akshat\" : 2, \"Akash\" : 3}'"
   ]
  },
  {
   "cell_type": "code",
   "execution_count": 2,
   "metadata": {},
   "outputs": [],
   "source": [
    "import json"
   ]
  },
  {
   "cell_type": "code",
   "execution_count": 4,
   "metadata": {},
   "outputs": [
    {
     "data": {
      "text/plain": [
       "{'Nikhil': 1, 'Akshat': 2, 'Akash': 3}"
      ]
     },
     "execution_count": 4,
     "metadata": {},
     "output_type": "execute_result"
    }
   ],
   "source": [
    "json.loads(s)"
   ]
  },
  {
   "cell_type": "code",
   "execution_count": 6,
   "metadata": {},
   "outputs": [
    {
     "data": {
      "text/plain": [
       "{'dhcp_enabled': 'False',\n",
       " 'dns': '192.168.1.1',\n",
       " 'eventhost_url': 'https://192.168.1.10...4343/event',\n",
       " 'gateway': '192.168.1.1'}"
      ]
     },
     "execution_count": 6,
     "metadata": {},
     "output_type": "execute_result"
    }
   ],
   "source": [
    "dict([('dhcp_enabled', 'False'), ('dns', '192.168.1.1'), ('eventhost_url', 'https://192.168.1.10...4343/event'), ('gateway', '192.168.1.1')])"
   ]
  },
  {
   "cell_type": "code",
   "execution_count": 9,
   "metadata": {},
   "outputs": [
    {
     "data": {
      "text/plain": [
       "'{\"dhcp_enabled\": \"False\", \"dns\": \"192.168.1.1\", \"eventhost_url\": \"https://192.168.1.100:4343/event\", \"gateway\": \"192.168.1.1\", \"heartbeat_interval\": \"5\", \"heartbeat_url\": \"https://192.168.1.100:4343/heartbeat\", \"ip\": \"192.168.1.90\", \"netmask\": \"255.255.255.0\"}'"
      ]
     },
     "execution_count": 9,
     "metadata": {},
     "output_type": "execute_result"
    }
   ],
   "source": [
    "json.dumps({\"dhcp_enabled\": \"False\", \"dns\": \"192.168.1.1\", \"eventhost_url\": \"https://192.168.1.100:4343/event\", \"gateway\": \"192.168.1.1\", \"heartbeat_interval\": \"5\", \"heartbeat_url\": \"https://192.168.1.100:4343/heartbeat\", \"ip\": \"192.168.1.90\", \"netmask\": \"255.255.255.0\"})"
   ]
  },
  {
   "cell_type": "code",
   "execution_count": 12,
   "metadata": {},
   "outputs": [],
   "source": [
    "d = {\"dhcp_enabled\": \"False\", \"dns\": \"192.168.1.1\", \"eventhost_url\": \"https://192.168.1.100:4343/event\", \"gateway\": \"192.168.1.1\", \"heartbeat_interval\": \"5\", \"heartbeat_url\": \"https://192.168.1.100:4343/heartbeat\", \"ip\": \"192.168.1.90\", \"netmask\": \"255.255.255.0\"}"
   ]
  },
  {
   "cell_type": "code",
   "execution_count": 13,
   "metadata": {},
   "outputs": [
    {
     "data": {
      "text/plain": [
       "{'dhcp_enabled': 'False',\n",
       " 'dns': '192.168.1.1',\n",
       " 'eventhost_url': 'https://192.168.1.100:4343/event',\n",
       " 'gateway': '192.168.1.1',\n",
       " 'heartbeat_interval': '5',\n",
       " 'heartbeat_url': 'https://192.168.1.100:4343/heartbeat',\n",
       " 'ip': '192.168.1.90',\n",
       " 'netmask': '255.255.255.0'}"
      ]
     },
     "execution_count": 13,
     "metadata": {},
     "output_type": "execute_result"
    }
   ],
   "source": [
    "d"
   ]
  },
  {
   "cell_type": "code",
   "execution_count": 15,
   "metadata": {},
   "outputs": [
    {
     "ename": "NameError",
     "evalue": "name 'is_instance' is not defined",
     "output_type": "error",
     "traceback": [
      "\u001b[0;31m---------------------------------------------------------------------------\u001b[0m",
      "\u001b[0;31mNameError\u001b[0m                                 Traceback (most recent call last)",
      "\u001b[0;32m<ipython-input-15-1d3446b37976>\u001b[0m in \u001b[0;36m<module>\u001b[0;34m\u001b[0m\n\u001b[1;32m      1\u001b[0m \u001b[0;32mfor\u001b[0m \u001b[0mkey\u001b[0m\u001b[0;34m,\u001b[0m\u001b[0mval\u001b[0m \u001b[0;32min\u001b[0m \u001b[0md\u001b[0m\u001b[0;34m.\u001b[0m\u001b[0mitems\u001b[0m\u001b[0;34m(\u001b[0m\u001b[0;34m)\u001b[0m\u001b[0;34m:\u001b[0m\u001b[0;34m\u001b[0m\u001b[0;34m\u001b[0m\u001b[0m\n\u001b[0;32m----> 2\u001b[0;31m     \u001b[0;32mif\u001b[0m \u001b[0mis_instance\u001b[0m\u001b[0;34m(\u001b[0m\u001b[0md\u001b[0m\u001b[0;34m[\u001b[0m\u001b[0mkey\u001b[0m\u001b[0;34m]\u001b[0m\u001b[0;34m,\u001b[0m\u001b[0mbool\u001b[0m\u001b[0;34m)\u001b[0m\u001b[0;34m:\u001b[0m\u001b[0;34m\u001b[0m\u001b[0;34m\u001b[0m\u001b[0m\n\u001b[0m\u001b[1;32m      3\u001b[0m         \u001b[0mprint\u001b[0m\u001b[0;34m(\u001b[0m\u001b[0;34m\"True\"\u001b[0m\u001b[0;34m)\u001b[0m\u001b[0;34m\u001b[0m\u001b[0;34m\u001b[0m\u001b[0m\n\u001b[1;32m      4\u001b[0m \u001b[0;34m\u001b[0m\u001b[0m\n",
      "\u001b[0;31mNameError\u001b[0m: name 'is_instance' is not defined"
     ]
    }
   ],
   "source": [
    "for key,val in d.items():\n",
    "    if is_instance(d[key],bool):\n",
    "        print(\"True\")\n",
    "        "
   ]
  },
  {
   "cell_type": "code",
   "execution_count": 22,
   "metadata": {},
   "outputs": [],
   "source": [
    "def to_bool(d):\n",
    "    for key,val in d.items():\n",
    "        if val == 'False':\n",
    "            d[key] = False\n",
    "        elif val == 'True':\n",
    "            d[key] == True\n",
    "    return d"
   ]
  },
  {
   "cell_type": "code",
   "execution_count": 21,
   "metadata": {},
   "outputs": [
    {
     "data": {
      "text/plain": [
       "'{\"dhcp_enabled\": false, \"dns\": \"192.168.1.1\", \"eventhost_url\": \"https://192.168.1.100:4343/event\", \"gateway\": \"192.168.1.1\", \"heartbeat_interval\": \"5\", \"heartbeat_url\": \"https://192.168.1.100:4343/heartbeat\", \"ip\": \"192.168.1.90\", \"netmask\": \"255.255.255.0\"}'"
      ]
     },
     "execution_count": 21,
     "metadata": {},
     "output_type": "execute_result"
    }
   ],
   "source": [
    "json.dumps(to_bool(d))"
   ]
  },
  {
   "cell_type": "code",
   "execution_count": 36,
   "metadata": {},
   "outputs": [],
   "source": [
    "def expand_form(json_d):\n",
    "    changed = []\n",
    "    return_d = json_d.copy()\n",
    "    for key,val in json_d.items():\n",
    "        if isinstance(val, dict):\n",
    "            for key_inner, val_inner in val.items():\n",
    "                new_key = key + '_' + key_inner\n",
    "                return_d[new_key] = val_inner\n",
    "                changed.append(new_key)\n",
    "            return_d.pop(key)\n",
    "    return return_d, changed"
   ]
  },
  {
   "cell_type": "code",
   "execution_count": 37,
   "metadata": {},
   "outputs": [],
   "source": [
    "new_d = json.loads('{\"external\":{\"ext_11\":false,\"relais_0\":false,\"ext_12\":false,\"relais_1\":false},\"macaddr\":\"70:B3:D5:DC:30:D2\",\"sensor\":{\"handle\":false,\"lock\":true,\"motor\":true},\"serialno\":\"5200010847\",\"name\":\"tanlock1\",\"time\":\"2000-01-02T11:53:13\",\"software\":\"07x18\",\"hardware\":\"04\"}')"
   ]
  },
  {
   "cell_type": "code",
   "execution_count": 38,
   "metadata": {},
   "outputs": [
    {
     "data": {
      "text/plain": [
       "{'external': {'ext_11': False,\n",
       "  'relais_0': False,\n",
       "  'ext_12': False,\n",
       "  'relais_1': False},\n",
       " 'macaddr': '70:B3:D5:DC:30:D2',\n",
       " 'sensor': {'handle': False, 'lock': True, 'motor': True},\n",
       " 'serialno': '5200010847',\n",
       " 'name': 'tanlock1',\n",
       " 'time': '2000-01-02T11:53:13',\n",
       " 'software': '07x18',\n",
       " 'hardware': '04'}"
      ]
     },
     "execution_count": 38,
     "metadata": {},
     "output_type": "execute_result"
    }
   ],
   "source": [
    "new_d"
   ]
  },
  {
   "cell_type": "code",
   "execution_count": 41,
   "metadata": {},
   "outputs": [
    {
     "data": {
      "text/plain": [
       "{'macaddr': '70:B3:D5:DC:30:D2',\n",
       " 'serialno': '5200010847',\n",
       " 'name': 'tanlock1',\n",
       " 'time': '2000-01-02T11:53:13',\n",
       " 'software': '07x18',\n",
       " 'hardware': '04',\n",
       " 'external_ext_11': False,\n",
       " 'external_relais_0': False,\n",
       " 'external_ext_12': False,\n",
       " 'external_relais_1': False,\n",
       " 'sensor_handle': False,\n",
       " 'sensor_lock': True,\n",
       " 'sensor_motor': True}"
      ]
     },
     "execution_count": 41,
     "metadata": {},
     "output_type": "execute_result"
    }
   ],
   "source": [
    "aa = expand_form(new_d)[0]\n",
    "aa"
   ]
  },
  {
   "cell_type": "code",
   "execution_count": 143,
   "metadata": {},
   "outputs": [],
   "source": [
    "def revert_dict(json_d, changed):\n",
    "    return_d = json_d.copy()\n",
    "    changed_idx = find_group_idx(changed)\n",
    "    prefix = [i.split('_')[0] for i in changed]\n",
    "    for i,j in changed_idx:\n",
    "        group = changed[i:j]\n",
    "        unique_prefix = prefix[i]\n",
    "        print(unique_prefix)\n",
    "        insert_d = {key:return_d[key] for key in group}\n",
    "        new_d = {}\n",
    "        new_d[unique_prefix] = insert_d\n",
    "        return_d.update(new_d)\n",
    "        [return_d.pop(key) for key in group]\n",
    "    return return_d\n",
    "\n",
    "    \n",
    "    "
   ]
  },
  {
   "cell_type": "code",
   "execution_count": 144,
   "metadata": {},
   "outputs": [
    {
     "name": "stdout",
     "output_type": "stream",
     "text": [
      "external\n",
      "sensor\n"
     ]
    },
    {
     "data": {
      "text/plain": [
       "{'macaddr': '70:B3:D5:DC:30:D2',\n",
       " 'serialno': '5200010847',\n",
       " 'name': 'tanlock1',\n",
       " 'time': '2000-01-02T11:53:13',\n",
       " 'software': '07x18',\n",
       " 'hardware': '04',\n",
       " 'external': {'external_ext_11': False,\n",
       "  'external_relais_0': False,\n",
       "  'external_ext_12': False,\n",
       "  'external_relais_1': False},\n",
       " 'sensor': {'sensor_handle': False, 'sensor_lock': True, 'sensor_motor': True}}"
      ]
     },
     "execution_count": 144,
     "metadata": {},
     "output_type": "execute_result"
    }
   ],
   "source": [
    "revert_dict(aa,changed)"
   ]
  },
  {
   "cell_type": "code",
   "execution_count": 77,
   "metadata": {},
   "outputs": [
    {
     "name": "stdout",
     "output_type": "stream",
     "text": [
      "external_ext_11\n",
      "external\n",
      "external_relais_0\n",
      "external\n",
      "external_ext_12\n",
      "external\n",
      "external_relais_1\n",
      "external\n",
      "sensor_handle\n",
      "sensor\n",
      "sensor_lock\n",
      "sensor\n",
      "sensor_motor\n",
      "sensor\n"
     ]
    }
   ],
   "source": [
    "changed = expand_form(new_d)[1]\n",
    "prefix = [i.split('_')[0] for i in changed]\n",
    "for key,val in aa.items():\n",
    "        if key in changed:\n",
    "            print(key)\n",
    "            key_idx = changed.index(key)\n",
    "            new_key = prefix[key_idx]\n",
    "            print(new_key)"
   ]
  },
  {
   "cell_type": "code",
   "execution_count": 128,
   "metadata": {},
   "outputs": [
    {
     "name": "stdout",
     "output_type": "stream",
     "text": [
      "external\n",
      "{'external_ext_11': False, 'external_relais_0': False, 'external_ext_12': False, 'external_relais_1': False}\n",
      "sensor\n",
      "{'sensor_handle': False, 'sensor_lock': True, 'sensor_motor': True}\n"
     ]
    }
   ],
   "source": [
    "changed_idx = find_group_idx(changed)\n",
    "prefix = [i.split('_')[0] for i in changed]\n",
    "for i,j in changed_idx:\n",
    "    group = changed[i:j]\n",
    "    unique_prefix = prefix[i]\n",
    "    print(unique_prefix)\n",
    "    print({key:aa[key] for key in group})\n",
    "    "
   ]
  },
  {
   "cell_type": "code",
   "execution_count": 124,
   "metadata": {},
   "outputs": [
    {
     "data": {
      "text/plain": [
       "['external_ext_11',\n",
       " 'external_relais_0',\n",
       " 'external_ext_12',\n",
       " 'external_relais_1',\n",
       " 'sensor_handle',\n",
       " 'sensor_lock',\n",
       " 'sensor_motor']"
      ]
     },
     "execution_count": 124,
     "metadata": {},
     "output_type": "execute_result"
    }
   ],
   "source": [
    "changed"
   ]
  },
  {
   "cell_type": "code",
   "execution_count": null,
   "metadata": {},
   "outputs": [],
   "source": []
  },
  {
   "cell_type": "code",
   "execution_count": 116,
   "metadata": {},
   "outputs": [],
   "source": [
    "def find_group_idx(l,sep = '_'):\n",
    "    counter = 0\n",
    "    ll = []\n",
    "    for i in range(1,len(l)):\n",
    "        prev = i - 1\n",
    "        val = l[i].split(sep)[0]\n",
    "        val_prev = l[prev].split(sep)[0]\n",
    "        if val != val_prev:\n",
    "            ll.append((counter,i))\n",
    "            counter = i\n",
    "    if i != len(l):\n",
    "        ll.append((counter,i+1))\n",
    "        \n",
    "       \n",
    "    return ll\n",
    "        "
   ]
  },
  {
   "cell_type": "code",
   "execution_count": 117,
   "metadata": {},
   "outputs": [
    {
     "data": {
      "text/plain": [
       "['b_b', 'b_ss']"
      ]
     },
     "execution_count": 117,
     "metadata": {},
     "output_type": "execute_result"
    }
   ],
   "source": [
    "ddd[9:11]"
   ]
  },
  {
   "cell_type": "code",
   "execution_count": 120,
   "metadata": {},
   "outputs": [],
   "source": [
    "ddd = ['external_ext_11',\n",
    " 'external_relais_0',\n",
    " 'external_ext_12',\n",
    " 'external_relais_1',\n",
    " 'sensor_handle',\n",
    " 'sensor_lock',\n",
    " 'sensor_motor',\n",
    "      's_sas',\n",
    "      's_s',]"
   ]
  },
  {
   "cell_type": "code",
   "execution_count": 121,
   "metadata": {},
   "outputs": [
    {
     "data": {
      "text/plain": [
       "[(0, 4), (4, 7), (7, 9)]"
      ]
     },
     "execution_count": 121,
     "metadata": {},
     "output_type": "execute_result"
    }
   ],
   "source": [
    "find_group_idx(ddd)"
   ]
  },
  {
   "cell_type": "code",
   "execution_count": 89,
   "metadata": {},
   "outputs": [
    {
     "data": {
      "text/plain": [
       "['sensor_handle', 'sensor_lock', 'sensor_motor']"
      ]
     },
     "execution_count": 89,
     "metadata": {},
     "output_type": "execute_result"
    }
   ],
   "source": [
    "ddd[4:7]"
   ]
  },
  {
   "cell_type": "code",
   "execution_count": 85,
   "metadata": {},
   "outputs": [
    {
     "data": {
      "text/plain": [
       "'external_relais_1'"
      ]
     },
     "execution_count": 85,
     "metadata": {},
     "output_type": "execute_result"
    }
   ],
   "source": [
    "changed[3]"
   ]
  },
  {
   "cell_type": "code",
   "execution_count": 146,
   "metadata": {},
   "outputs": [
    {
     "data": {
      "text/plain": [
       "True"
      ]
     },
     "execution_count": 146,
     "metadata": {},
     "output_type": "execute_result"
    }
   ],
   "source": [
    "bool(['s'])"
   ]
  },
  {
   "cell_type": "code",
   "execution_count": 149,
   "metadata": {},
   "outputs": [
    {
     "data": {
      "text/plain": [
       "{'user_1_auth_method': 'rfidmod',\n",
       " 'user_1_schedule_id': '0',\n",
       " 'user_1_secret': 'nil',\n",
       " 'user_1_uid': '5bd6e37d',\n",
       " 'user_2_auth_method': 'nil',\n",
       " 'user_2_schedule_id': 'nil',\n",
       " 'user_2_secret': 'nil',\n",
       " 'user_2_uid': 'nil',\n",
       " 'user_3_auth_method': 'rfidmod',\n",
       " 'user_3_schedule_id': '0',\n",
       " 'user_3_secret': 'nil',\n",
       " 'user_3_uid': '111222',\n",
       " 'user_4_auth_method': 'rfidmod',\n",
       " 'user_4_schedule_id': '0'}"
      ]
     },
     "execution_count": 149,
     "metadata": {},
     "output_type": "execute_result"
    }
   ],
   "source": [
    "ids = {'user_1_auth_method': 'rfidmod', 'user_1_schedule_id': '0', 'user_1_secret': 'nil', 'user_1_uid': '5bd6e37d', 'user_2_auth_method': 'nil', 'user_2_schedule_id': 'nil', 'user_2_secret': 'nil', 'user_2_uid': 'nil', 'user_3_auth_method': 'rfidmod', 'user_3_schedule_id': '0', 'user_3_secret': 'nil', 'user_3_uid': '111222', 'user_4_auth_method': 'rfidmod', 'user_4_schedule_id': '0'}\n",
    "ids"
   ]
  },
  {
   "cell_type": "code",
   "execution_count": 152,
   "metadata": {},
   "outputs": [
    {
     "data": {
      "text/plain": [
       "[{'uid': '5bd6e37d',\n",
       "  'secret': 'nil',\n",
       "  'auth_method': 'rfidmod',\n",
       "  'schedule_id': '0'},\n",
       " {'uid': 'nil', 'secret': 'nil', 'auth_method': 'nil', 'schedule_id': 'nil'},\n",
       " {'uid': '111222',\n",
       "  'secret': 'nil',\n",
       "  'auth_method': 'rfidmod',\n",
       "  'schedule_id': '0'},\n",
       " {'uid': '222333',\n",
       "  'secret': 'nil',\n",
       "  'auth_method': 'rfidmod',\n",
       "  'schedule_id': '0'},\n",
       " {'uid': '333444',\n",
       "  'secret': 'nil',\n",
       "  'auth_method': 'rfidmod',\n",
       "  'schedule_id': '0'}]"
      ]
     },
     "execution_count": 152,
     "metadata": {},
     "output_type": "execute_result"
    }
   ],
   "source": [
    "original = [{\"uid\":\"5bd6e37d\",\"secret\":\"nil\",\"auth_method\":\"rfidmod\",\"schedule_id\":\"0\"},{\"uid\":\"nil\",\"secret\":\"nil\",\"auth_method\":\"nil\",\"schedule_id\":\"nil\"},{\"uid\":\"111222\",\"secret\":\"nil\",\"auth_method\":\"rfidmod\",\"schedule_id\":\"0\"},{\"uid\":\"222333\",\"secret\":\"nil\",\"auth_method\":\"rfidmod\",\"schedule_id\":\"0\"},{\"uid\":\"333444\",\"secret\":\"nil\",\"auth_method\":\"rfidmod\",\"schedule_id\":\"0\"}]\n",
    "original"
   ]
  },
  {
   "cell_type": "code",
   "execution_count": 156,
   "metadata": {},
   "outputs": [
    {
     "data": {
      "text/plain": [
       "['user_1_auth_method', 'user_1_schedule_id', 'user_1_secret', 'user_1_uid']"
      ]
     },
     "execution_count": 156,
     "metadata": {},
     "output_type": "execute_result"
    }
   ],
   "source": [
    "list(ids)[:4]"
   ]
  },
  {
   "cell_type": "code",
   "execution_count": 201,
   "metadata": {},
   "outputs": [
    {
     "name": "stdout",
     "output_type": "stream",
     "text": [
      "user_1_\n",
      "['', 'auth_method']\n",
      "user_2_\n",
      "['user_1_schedule_id']\n",
      "user_3_\n",
      "['user_1_secret']\n",
      "user_4_\n",
      "['user_1_uid']\n",
      "user_5_\n",
      "['user_2_auth_method']\n",
      "user_6_\n",
      "['user_2_schedule_id']\n",
      "user_7_\n",
      "['user_2_secret']\n",
      "user_8_\n",
      "['user_2_uid']\n",
      "user_9_\n",
      "['user_3_auth_method']\n",
      "user_10_\n",
      "['user_3_schedule_id']\n",
      "user_11_\n",
      "['user_3_secret']\n",
      "user_12_\n",
      "['user_3_uid']\n",
      "user_13_\n",
      "['user_4_auth_method']\n",
      "user_14_\n",
      "['user_4_schedule_id']\n"
     ]
    }
   ],
   "source": [
    "for i,key in enumerate(list(ids),1):\n",
    "    print(f\"user_{i}_\")\n",
    "    print(key.split(f\"user_{i}_\"))"
   ]
  },
  {
   "cell_type": "code",
   "execution_count": 189,
   "metadata": {},
   "outputs": [],
   "source": [
    "def handle_user(d,prefix = 'user_'):\n",
    "    print(d)\n",
    "    a = [key.split(f'{prefix}{i}_') for i,key in enumerate(list(d),1)]\n",
    "    print(a)\n",
    "    "
   ]
  },
  {
   "cell_type": "code",
   "execution_count": 190,
   "metadata": {},
   "outputs": [
    {
     "name": "stdout",
     "output_type": "stream",
     "text": [
      "{'user_1_auth_method': 'rfidmod', 'user_1_schedule_id': '0', 'user_1_secret': 'nil', 'user_1_uid': '5bd6e37d', 'user_2_auth_method': 'nil', 'user_2_schedule_id': 'nil', 'user_2_secret': 'nil', 'user_2_uid': 'nil', 'user_3_auth_method': 'rfidmod', 'user_3_schedule_id': '0', 'user_3_secret': 'nil', 'user_3_uid': '111222', 'user_4_auth_method': 'rfidmod', 'user_4_schedule_id': '0'}\n",
      "[['', 'auth_method'], ['user_1_schedule_id'], ['user_1_secret'], ['user_1_uid'], ['user_2_auth_method'], ['user_2_schedule_id'], ['user_2_secret'], ['user_2_uid'], ['user_3_auth_method'], ['user_3_schedule_id'], ['user_3_secret'], ['user_3_uid'], ['user_4_auth_method'], ['user_4_schedule_id']]\n"
     ]
    }
   ],
   "source": [
    "handle_user(ids)"
   ]
  },
  {
   "cell_type": "code",
   "execution_count": 184,
   "metadata": {},
   "outputs": [
    {
     "data": {
      "text/plain": [
       "[{'auth_method': 'rfidmod',\n",
       "  'schedule_id': '0',\n",
       "  'secret': 'nil',\n",
       "  'uid': '5bd6e37d'},\n",
       " {'auth_method': 'nil', 'schedule_id': 'nil', 'secret': 'nil', 'uid': 'nil'},\n",
       " {'auth_method': 'rfidmod',\n",
       "  'schedule_id': '0',\n",
       "  'secret': 'nil',\n",
       "  'uid': '111222'},\n",
       " {'auth_method': 'rfidmod',\n",
       "  'schedule_id': '0',\n",
       "  'secret': 'nil',\n",
       "  'uid': '222333'},\n",
       " {'auth_method': 'rfidmod',\n",
       "  'schedule_id': '0',\n",
       "  'secret': 'nil',\n",
       "  'uid': '333444'}]"
      ]
     },
     "execution_count": 184,
     "metadata": {},
     "output_type": "execute_result"
    }
   ],
   "source": [
    "json.loads('[{\"auth_method\": \"rfidmod\", \"schedule_id\": \"0\", \"secret\": \"nil\", \"uid\": \"5bd6e37d\"}, {\"auth_method\": \"nil\", \"schedule_id\": \"nil\", \"secret\": \"nil\", \"uid\": \"nil\"}, {\"auth_method\": \"rfidmod\", \"schedule_id\": \"0\", \"secret\": \"nil\", \"uid\": \"111222\"}, {\"auth_method\": \"rfidmod\", \"schedule_id\": \"0\", \"secret\": \"nil\", \"uid\": \"222333\"}, {\"auth_method\": \"rfidmod\", \"schedule_id\": \"0\", \"secret\": \"nil\", \"uid\": \"333444\"}]')"
   ]
  },
  {
   "cell_type": "code",
   "execution_count": 14,
   "metadata": {},
   "outputs": [],
   "source": [
    "def encode(s):\n",
    "    return [1 if i in s else 0 for i in range(10)]"
   ]
  },
  {
   "cell_type": "code",
   "execution_count": 17,
   "metadata": {},
   "outputs": [],
   "source": [
    "s = [1, 2, 8]"
   ]
  },
  {
   "cell_type": "code",
   "execution_count": 18,
   "metadata": {},
   "outputs": [
    {
     "data": {
      "text/plain": [
       "[0, 1, 1, 0, 0, 0, 0, 0, 1, 0]"
      ]
     },
     "execution_count": 18,
     "metadata": {},
     "output_type": "execute_result"
    }
   ],
   "source": [
    "encode(s)"
   ]
  }
 ],
 "metadata": {
  "kernelspec": {
   "display_name": "Python 3",
   "language": "python",
   "name": "python3"
  },
  "language_info": {
   "codemirror_mode": {
    "name": "ipython",
    "version": 3
   },
   "file_extension": ".py",
   "mimetype": "text/x-python",
   "name": "python",
   "nbconvert_exporter": "python",
   "pygments_lexer": "ipython3",
   "version": "3.7.5"
  },
  "toc": {
   "base_numbering": 1,
   "nav_menu": {},
   "number_sections": true,
   "sideBar": true,
   "skip_h1_title": false,
   "title_cell": "Table of Contents",
   "title_sidebar": "Contents",
   "toc_cell": true,
   "toc_position": {},
   "toc_section_display": true,
   "toc_window_display": true
  }
 },
 "nbformat": 4,
 "nbformat_minor": 4
}
