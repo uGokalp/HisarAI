{
 "cells": [
  {
   "cell_type": "markdown",
   "metadata": {
    "toc": true
   },
   "source": [
    "<h1>Table of Contents<span class=\"tocSkip\"></span></h1>\n",
    "<div class=\"toc\"><ul class=\"toc-item\"><li><span><a href=\"#Feature-Engineering\" data-toc-modified-id=\"Feature-Engineering-1\"><span class=\"toc-item-num\">1&nbsp;&nbsp;</span>Feature Engineering</a></span></li><li><span><a href=\"#The-Different-data-types:\" data-toc-modified-id=\"The-Different-data-types:-2\"><span class=\"toc-item-num\">2&nbsp;&nbsp;</span>The Different data types:</a></span></li><li><span><a href=\"#Continuous\" data-toc-modified-id=\"Continuous-3\"><span class=\"toc-item-num\">3&nbsp;&nbsp;</span>Continuous</a></span><ul class=\"toc-item\"><li><span><a href=\"#Standardization\" data-toc-modified-id=\"Standardization-3.1\"><span class=\"toc-item-num\">3.1&nbsp;&nbsp;</span>Standardization</a></span></li></ul></li><li><span><a href=\"#Box-Cox-Transformation-(Power-Transformation)\" data-toc-modified-id=\"Box-Cox-Transformation-(Power-Transformation)-4\"><span class=\"toc-item-num\">4&nbsp;&nbsp;</span>Box Cox Transformation (Power Transformation)</a></span></li><li><span><a href=\"#Categorical\" data-toc-modified-id=\"Categorical-5\"><span class=\"toc-item-num\">5&nbsp;&nbsp;</span>Categorical</a></span><ul class=\"toc-item\"><li><span><a href=\"#Regular-Cardinality\" data-toc-modified-id=\"Regular-Cardinality-5.1\"><span class=\"toc-item-num\">5.1&nbsp;&nbsp;</span>Regular Cardinality</a></span><ul class=\"toc-item\"><li><span><a href=\"#Label-Encoding\" data-toc-modified-id=\"Label-Encoding-5.1.1\"><span class=\"toc-item-num\">5.1.1&nbsp;&nbsp;</span>Label Encoding</a></span></li><li><span><a href=\"#One-Hot-Encoding\" data-toc-modified-id=\"One-Hot-Encoding-5.1.2\"><span class=\"toc-item-num\">5.1.2&nbsp;&nbsp;</span>One Hot Encoding</a></span></li></ul></li><li><span><a href=\"#High-Cardinality\" data-toc-modified-id=\"High-Cardinality-5.2\"><span class=\"toc-item-num\">5.2&nbsp;&nbsp;</span>High Cardinality</a></span><ul class=\"toc-item\"><li><span><a href=\"#Mean-Encoding\" data-toc-modified-id=\"Mean-Encoding-5.2.1\"><span class=\"toc-item-num\">5.2.1&nbsp;&nbsp;</span>Mean Encoding</a></span></li></ul></li></ul></li><li><span><a href=\"#Ordinal\" data-toc-modified-id=\"Ordinal-6\"><span class=\"toc-item-num\">6&nbsp;&nbsp;</span>Ordinal</a></span><ul class=\"toc-item\"><li><span><a href=\"#Ordinal-Encoding\" data-toc-modified-id=\"Ordinal-Encoding-6.1\"><span class=\"toc-item-num\">6.1&nbsp;&nbsp;</span>Ordinal Encoding</a></span></li></ul></li><li><span><a href=\"#Datetime\" data-toc-modified-id=\"Datetime-7\"><span class=\"toc-item-num\">7&nbsp;&nbsp;</span>Datetime</a></span></li></ul></div>"
   ]
  },
  {
   "cell_type": "markdown",
   "metadata": {},
   "source": [
    "# Feature Engineering\n",
    "\n",
    "One of the crucial steps in ML is the way you present the various data types to your model.\n",
    "\n",
    "# The Different data types:\n",
    "\n",
    "__Continuous__: It can be any real number. An example could be house prices.\n",
    "\n",
    "__Categorical__: These represent discrete number of categories. An example is gender.\n",
    "\n",
    "__Ordinal__: This of this as a ordered categorical variable. Suppose you bin income ranges into three groups low, mid, high.\n",
    "    \n",
    "\n",
    "\n"
   ]
  },
  {
   "cell_type": "markdown",
   "metadata": {},
   "source": [
    "# Continuous"
   ]
  },
  {
   "cell_type": "markdown",
   "metadata": {},
   "source": [
    "## Standardization"
   ]
  },
  {
   "cell_type": "markdown",
   "metadata": {},
   "source": [
    "# Box Cox Transformation (Power Transformation)\n",
    "\n",
    "This transformation is useful when:\n",
    "- Normality of errors assumption is not met. (Checked using QQ-plot)\n",
    "- The dependent variable does not scale one to one with the features.\n",
    "- The dependent variable follows an exponential distribution.\n",
    "\n",
    "\n",
    "$$\n",
    "y_i = \\left\\{\n",
    "        \\begin{array}{ll}\n",
    "            \\frac{y^{\\lambda} - 1}{\\lambda} & \\quad \\lambda \\neq 0 \\\\\n",
    "            \\log{(y)} & \\quad x = 0\n",
    "        \\end{array}\n",
    "    \\right.\n",
    "$$\n",
    "\n",
    "Parameter lambda is estimated through maximum likelihood and is generally between -2 to 2.\n",
    "\n",
    "Stats package in python takes care of the parameter estimation and applies the transformation.\n",
    "\n",
    "```python\n",
    "from scipy.stats import boxcox\n",
    "```"
   ]
  },
  {
   "cell_type": "markdown",
   "metadata": {},
   "source": [
    "# Categorical"
   ]
  },
  {
   "cell_type": "markdown",
   "metadata": {},
   "source": [
    "## Regular Cardinality"
   ]
  },
  {
   "cell_type": "markdown",
   "metadata": {},
   "source": [
    "### Label Encoding\n",
    "\n",
    "Suppose you have two categories `male` and `female`.\n",
    "\n",
    "You might want to encode `0` for `male` and `1` for `female`.\n",
    "\n",
    "__Note__: This type of encoding doesn't work very well with linear models."
   ]
  },
  {
   "cell_type": "markdown",
   "metadata": {},
   "source": [
    "### One Hot Encoding\n",
    "\n",
    "$$\\text{One Hot Encoded} = \\begin{bmatrix} \n",
    "1 & 0 & 0 & 0 \\\\\n",
    "0 & 0 & 1 & 0\\\\\n",
    "0 & 1 & 0 & 0 \\\\\n",
    "0 & 0 & 0 & 1 \\\\\n",
    "1 & 0 & 0 & 0 \\\\\n",
    "\\end{bmatrix}$$"
   ]
  },
  {
   "cell_type": "markdown",
   "metadata": {},
   "source": [
    "## High Cardinality"
   ]
  },
  {
   "cell_type": "markdown",
   "metadata": {},
   "source": [
    "### Mean Encoding\n",
    "\n",
    "Suppose we have a categorical variable with cardinality of 50. One hot encoding 50 new columns to the data may be impractical and not very effective. We can use the mean value of the label when that variable is present to encode the high cardinality variable."
   ]
  },
  {
   "cell_type": "markdown",
   "metadata": {},
   "source": [
    "### Hashing\n",
    "\n",
    "You may want to introduce one-hot encoding to your model even if the variable is high cardinality. One way to achive a similar result without shooting up the feature space is using a hashing function with predetermined number of bins."
   ]
  },
  {
   "cell_type": "markdown",
   "metadata": {},
   "source": [
    "# Ordinal"
   ]
  },
  {
   "cell_type": "markdown",
   "metadata": {},
   "source": [
    "## Ordinal Encoding\n",
    "\n",
    "If you have an ordinal variable, that is the variables are ordered."
   ]
  },
  {
   "cell_type": "markdown",
   "metadata": {},
   "source": [
    "# Datetime\n",
    "\n",
    "One way to encode datetime is to split the date into new features.\n",
    "\n",
    "These features may include:\n",
    "- Day\n",
    "- Month\n",
    "- Year\n",
    "- is weekday\n",
    "- is weekend\n",
    "- is holiday\n",
    "\n",
    "You can also take take sine and cosine of the cyclical features.\n",
    "You can find a justification for that approach [here.](https://ianlondon.github.io/blog/encoding-cyclical-features-24hour-time/)"
   ]
  },
  {
   "cell_type": "code",
   "execution_count": null,
   "metadata": {},
   "outputs": [],
   "source": []
  }
 ],
 "metadata": {
  "kernelspec": {
   "display_name": "Python 3",
   "language": "python",
   "name": "python3"
  },
  "language_info": {
   "codemirror_mode": {
    "name": "ipython",
    "version": 3
   },
   "file_extension": ".py",
   "mimetype": "text/x-python",
   "name": "python",
   "nbconvert_exporter": "python",
   "pygments_lexer": "ipython3",
   "version": "3.7.5"
  },
  "toc": {
   "base_numbering": 1,
   "nav_menu": {},
   "number_sections": true,
   "sideBar": true,
   "skip_h1_title": false,
   "title_cell": "Table of Contents",
   "title_sidebar": "Contents",
   "toc_cell": true,
   "toc_position": {},
   "toc_section_display": true,
   "toc_window_display": true
  }
 },
 "nbformat": 4,
 "nbformat_minor": 4
}
