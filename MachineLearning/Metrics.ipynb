{
 "cells": [
  {
   "cell_type": "markdown",
   "metadata": {},
   "source": [
    "# Binary Classification Metrics"
   ]
  },
  {
   "cell_type": "markdown",
   "metadata": {},
   "source": [
    "## Sensitivity (True Positive Rate) (Recall)\n",
    "$$\\text{True Positive Rate} = \\frac{\\text{True Positive}}{\\text{True Positive } + \\text{ False Positive}}$$\n",
    "\n",
    "```python\n",
    "from sklearn.metrics import recall_score\n",
    "```"
   ]
  },
  {
   "cell_type": "markdown",
   "metadata": {},
   "source": [
    "## Spesificity (True Negative Rate)\n",
    "$$\\text{True Negative Rate} = \\frac{\\text{True Negative}}{\\text{True Negative } + \\text{ False Positive}}$$"
   ]
  },
  {
   "cell_type": "markdown",
   "metadata": {},
   "source": [
    "## Precision\n",
    "$$\\text{Precision} = \\frac{\\text{True Positive}}{\\text{True Positive } + \\text{ False Positive}}$$\n",
    "\n",
    "```python\n",
    "from sklearn.metrics import precision_score\n",
    "```\n",
    "\n",
    "What does it really mean?\n",
    "- To have a low precision score means most predictions are done for the postivie class, incorrectly."
   ]
  },
  {
   "cell_type": "markdown",
   "metadata": {},
   "source": [
    "## Accuracy\n",
    "$$\\text{Accuracy} = \\frac{\\text{TP + TN}}{\\text{TP + TN + FP + FN}}$$\n",
    "\n",
    "```python\n",
    "from sklearn.metrics import accuracy_score\n",
    "```\n",
    "\n",
    "When should you use it?\n",
    "- Only when the dataset is balanced."
   ]
  },
  {
   "cell_type": "markdown",
   "metadata": {},
   "source": [
    "## Binary Confusion Matrix\n",
    "\n",
    "```python\n",
    " !pip install scikit-plot\n",
    "```"
   ]
  },
  {
   "cell_type": "markdown",
   "metadata": {},
   "source": [
    "![image.png](https://scikit-learn.org/stable/_images/sphx_glr_plot_confusion_matrix_001.png)"
   ]
  },
  {
   "cell_type": "markdown",
   "metadata": {},
   "source": [
    "## F1 Score (Harmonic Average of Recall and Precision)\n",
    "\n",
    "```python\n",
    "from sklearn.metrics import f1_score\n",
    "```\n",
    "\n",
    "When should you use it?\n",
    "- When you have an unbalanced dataset."
   ]
  },
  {
   "cell_type": "markdown",
   "metadata": {},
   "source": [
    "## Scikit Learn Classification Report\n",
    "```python\n",
    "from sklearn.metrics import classification_report\n",
    "```"
   ]
  },
  {
   "cell_type": "markdown",
   "metadata": {},
   "source": [
    "## Reciever Operator Characteristic Curve (ROC)\n",
    "\n",
    "```python\n",
    "from sklearn.metrics import roc_curve\n",
    "```"
   ]
  },
  {
   "cell_type": "markdown",
   "metadata": {},
   "source": [
    "## Area Under ROC (AUC)\n",
    "\n",
    "```python\n",
    "from sklearn.metrics import roc_auc_score\n",
    "```"
   ]
  },
  {
   "cell_type": "code",
   "execution_count": null,
   "metadata": {},
   "outputs": [],
   "source": []
  },
  {
   "cell_type": "code",
   "execution_count": null,
   "metadata": {},
   "outputs": [],
   "source": []
  }
 ],
 "metadata": {
  "kernelspec": {
   "display_name": "Python 3",
   "language": "python",
   "name": "python3"
  },
  "language_info": {
   "codemirror_mode": {
    "name": "ipython",
    "version": 3
   },
   "file_extension": ".py",
   "mimetype": "text/x-python",
   "name": "python",
   "nbconvert_exporter": "python",
   "pygments_lexer": "ipython3",
   "version": "3.7.5"
  },
  "toc-autonumbering": true
 },
 "nbformat": 4,
 "nbformat_minor": 4
}
