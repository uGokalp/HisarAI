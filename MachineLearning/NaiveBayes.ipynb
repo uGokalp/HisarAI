{
 "cells": [
  {
   "cell_type": "markdown",
   "metadata": {},
   "source": [
    "# Naive Bayes"
   ]
  },
  {
   "cell_type": "code",
   "execution_count": 1,
   "metadata": {},
   "outputs": [
    {
     "data": {
      "text/html": [
       "\n",
       "        <iframe\n",
       "            width=\"560\"\n",
       "            height=\"315\"\n",
       "            src=\"https://www.youtube.com/embed/CPqOCI0ahss\"\n",
       "            frameborder=\"0\"\n",
       "            allowfullscreen\n",
       "        ></iframe>\n",
       "        "
      ],
      "text/plain": [
       "<IPython.lib.display.IFrame at 0x104cd3c10>"
      ]
     },
     "execution_count": 1,
     "metadata": {},
     "output_type": "execute_result"
    }
   ],
   "source": [
    "from IPython.display import IFrame\n",
    "IFrame('https://www.youtube.com/embed/CPqOCI0ahss',560,315)"
   ]
  },
  {
   "cell_type": "markdown",
   "metadata": {},
   "source": [
    "## Probability Review"
   ]
  },
  {
   "cell_type": "markdown",
   "metadata": {},
   "source": [
    "### Conditional Probability\n",
    "\n",
    "$$P(A|B) = \\frac{P(A\\cap{B})}{P(B)} $$"
   ]
  },
  {
   "cell_type": "markdown",
   "metadata": {},
   "source": [
    "## Bayes Rule\n",
    "\n",
    "$$P(A|B) = \\frac{P(A)\\cdot P(B|A)}{P(A)}$$\n",
    "\n",
    "We can expand the denominator with law of total probability.\n",
    "\n",
    "$$P(A|B) = \\frac{P(A)\\cdot P(B|A)}{P(A)\\cdot P(B|A) + P(A^C)\\cdot P(B|A^C)}$$\n"
   ]
  },
  {
   "cell_type": "markdown",
   "metadata": {},
   "source": [
    "## Independence Assumption"
   ]
  },
  {
   "cell_type": "markdown",
   "metadata": {},
   "source": [
    "$$P(A\\cap{B}) = P(A){P(B)} $$"
   ]
  },
  {
   "cell_type": "markdown",
   "metadata": {},
   "source": [
    "## Implementation in Python (An oversimplification)"
   ]
  },
  {
   "cell_type": "code",
   "execution_count": 107,
   "metadata": {},
   "outputs": [],
   "source": [
    "import string\n",
    "import math\n",
    "\n",
    "class NaiveBayes:\n",
    "    \n",
    "    \n",
    "    def __init__(self):\n",
    "        self.k = 0.5\n",
    "        self.pos_counts = dict()\n",
    "        self.neg_counts = dict()\n",
    "        self.pos, self.neg = 0, 0\n",
    "        self.tokens = set()\n",
    "    \n",
    "    def fit(self,X,y):\n",
    "        for i in range(len(X)):\n",
    "            if y[i] == 1: # Positive class\n",
    "                self.pos += 1\n",
    "                for token in self.tokenize(X[i]):\n",
    "                    self.tokens.add(token)\n",
    "                    if token not in self.pos_counts:\n",
    "                        self.pos_counts[token] = 1 \n",
    "                    else:\n",
    "                        self.pos_counts[token] += 1 \n",
    "                        \n",
    "                    \n",
    "                    \n",
    "            elif y[i] == 0: # Negative Class\n",
    "                self.neg += 1\n",
    "                for token in self.tokenize(X[i]):\n",
    "                    if token not in self.neg_counts:\n",
    "                        self.tokens.add(token)\n",
    "                        self.neg_counts[token] = 1 \n",
    "                    else:\n",
    "                        self.neg_counts[token] += 1 \n",
    "    \n",
    "    def predict(self,X):\n",
    "        pos_log_prob, neg_log_prob = 0., 0.\n",
    "        \n",
    "        for x in X:\n",
    "            print(x)\n",
    "            tokens = self.tokenize(x)\n",
    "            for token in tokens:\n",
    "                p_pos, p_neg = self._predict(token)\n",
    "                if token in self.tokens:\n",
    "                    pos_log_prob += math.log(p_pos)\n",
    "                    neg_log_prob += math.log(p_neg)\n",
    "                else: # Never seen before\n",
    "                    pos_log_prob += math.log(1 - p_pos)\n",
    "                    neg_log_prob += math.log(1 - p_neg)\n",
    "        \n",
    "        prob_pos = math.exp(pos_log_prob)\n",
    "        prob_neg = math.exp(neg_log_prob)\n",
    "        \n",
    "        return prob_pos / (prob_pos + prob_neg)\n",
    "                    \n",
    "    \n",
    "    def _predict(self,token):\n",
    "        pos = self.pos_counts[token]\n",
    "        neg = self.neg_counts[token]\n",
    "        \n",
    "        prob_pos = (pos + self.k) / (self.pos + 2 * self.k)\n",
    "        prob_neg = (neg + self.k) / (self.neg + 2 * self.k)\n",
    "        \n",
    "        return prob_pos, prob_neg\n",
    "    \n",
    "    def tokenize(self,text):\n",
    "        text = text.lower()\n",
    "        text = \"\".join([i for i in text if i not in string.punctuation])\n",
    "        return list(set(text.split()))\n",
    "    "
   ]
  },
  {
   "cell_type": "code",
   "execution_count": 108,
   "metadata": {},
   "outputs": [],
   "source": [
    "t = \"Data Science. is, science\""
   ]
  },
  {
   "cell_type": "code",
   "execution_count": 109,
   "metadata": {},
   "outputs": [],
   "source": [
    "X = [t]*100"
   ]
  },
  {
   "cell_type": "code",
   "execution_count": 110,
   "metadata": {},
   "outputs": [],
   "source": [
    "y = [1, 1, 0, 1, 1] * 20\n",
    "    "
   ]
  },
  {
   "cell_type": "code",
   "execution_count": 111,
   "metadata": {},
   "outputs": [],
   "source": [
    "n = NaiveBayes()"
   ]
  },
  {
   "cell_type": "code",
   "execution_count": 112,
   "metadata": {},
   "outputs": [],
   "source": [
    "n.fit(X,y)"
   ]
  },
  {
   "cell_type": "code",
   "execution_count": 113,
   "metadata": {},
   "outputs": [
    {
     "name": "stdout",
     "output_type": "stream",
     "text": [
      "Data Science. is, science\n"
     ]
    },
    {
     "data": {
      "text/plain": [
       "0.5134259577829403"
      ]
     },
     "execution_count": 113,
     "metadata": {},
     "output_type": "execute_result"
    }
   ],
   "source": [
    "n.predict([\"Data Science. is, science\"])"
   ]
  },
  {
   "cell_type": "code",
   "execution_count": null,
   "metadata": {},
   "outputs": [],
   "source": []
  }
 ],
 "metadata": {
  "kernelspec": {
   "display_name": "Python 3",
   "language": "python",
   "name": "python3"
  },
  "language_info": {
   "codemirror_mode": {
    "name": "ipython",
    "version": 3
   },
   "file_extension": ".py",
   "mimetype": "text/x-python",
   "name": "python",
   "nbconvert_exporter": "python",
   "pygments_lexer": "ipython3",
   "version": "3.7.5"
  }
 },
 "nbformat": 4,
 "nbformat_minor": 4
}
