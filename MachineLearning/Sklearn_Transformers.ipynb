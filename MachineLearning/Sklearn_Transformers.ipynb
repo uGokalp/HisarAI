{
 "cells": [
  {
   "cell_type": "markdown",
   "metadata": {},
   "source": [
    "# Intro to Scikit learn preprocessing\n",
    "<p> All sklearn pre-processing functions will come with a set api. </p>\n",
    "\n",
    "-  ```fit``` similar to the machine learning algorithms, the pre-processing functions will also require you to call fit before doing anything else.\n",
    "-  ```transform``` This is what you came here for.\n",
    "-  But what if you don't want to call fit and transform seperatly. You can instead call ```fit_transform```.\n",
    "- What if you want to get the inverse transformation? Well, call ```inverse_transform```"
   ]
  },
  {
   "cell_type": "markdown",
   "metadata": {},
   "source": [
    "## Standard Scaler\n",
    "For time when you don't want to apply $\\frac{x-\\bar{x}}{\\sigma}$ by hand"
   ]
  },
  {
   "cell_type": "code",
   "execution_count": 25,
   "metadata": {},
   "outputs": [],
   "source": [
    "from sklearn.preprocessing import StandardScaler\n",
    "import numpy as np\n",
    "\n",
    "def pretty_mean(mat):\n",
    "    mean = mat.mean(axis=1)\n",
    "    std = mat.std(axis=1)\n",
    "    for i,(m,s) in enumerate(zip(mean,std)):\n",
    "        print(f\"Column {i} has a mean of {m.round(2)} and standard dev of {s.round(2)}\")\n",
    "    "
   ]
  },
  {
   "cell_type": "code",
   "execution_count": 26,
   "metadata": {},
   "outputs": [
    {
     "name": "stdout",
     "output_type": "stream",
     "text": [
      "Column 0 has a mean of 728.2 and standard dev of 456.69\n",
      "Column 1 has a mean of 941.4 and standard dev of 421.88\n",
      "Column 2 has a mean of 860.0 and standard dev of 371.94\n",
      "Column 3 has a mean of 649.0 and standard dev of 540.09\n",
      "Column 4 has a mean of 1104.0 and standard dev of 591.43\n",
      "Column 5 has a mean of 1337.8 and standard dev of 702.39\n",
      "Column 6 has a mean of 748.0 and standard dev of 631.93\n",
      "Column 7 has a mean of 1474.8 and standard dev of 385.23\n",
      "Column 8 has a mean of 943.4 and standard dev of 382.36\n",
      "Column 9 has a mean of 558.2 and standard dev of 113.73\n"
     ]
    }
   ],
   "source": [
    "my_matrix = np.random.randint(10,2000,size=(10,5))\n",
    "pretty_mean(my_matrix)"
   ]
  },
  {
   "cell_type": "code",
   "execution_count": 27,
   "metadata": {},
   "outputs": [
    {
     "name": "stdout",
     "output_type": "stream",
     "text": [
      "Column 0 has a mean of -0.37 and standard dev of 0.84\n",
      "Column 1 has a mean of -0.03 and standard dev of 0.84\n",
      "Column 2 has a mean of -0.01 and standard dev of 0.88\n",
      "Column 3 has a mean of -0.49 and standard dev of 0.98\n",
      "Column 4 has a mean of 0.35 and standard dev of 1.03\n",
      "Column 5 has a mean of 0.76 and standard dev of 1.11\n",
      "Column 6 has a mean of -0.46 and standard dev of 1.09\n",
      "Column 7 has a mean of 0.9 and standard dev of 0.65\n",
      "Column 8 has a mean of 0.03 and standard dev of 0.54\n",
      "Column 9 has a mean of -0.67 and standard dev of 0.28\n"
     ]
    }
   ],
   "source": [
    "my_scaler = StandardScaler()\n",
    "scaled = my_scaler.fit_transform(my_matrix)\n",
    "pretty_mean(scaled)"
   ]
  },
  {
   "cell_type": "markdown",
   "metadata": {},
   "source": [
    "## "
   ]
  },
  {
   "cell_type": "code",
   "execution_count": null,
   "metadata": {},
   "outputs": [],
   "source": []
  },
  {
   "cell_type": "code",
   "execution_count": null,
   "metadata": {},
   "outputs": [],
   "source": []
  },
  {
   "cell_type": "code",
   "execution_count": null,
   "metadata": {},
   "outputs": [],
   "source": []
  },
  {
   "cell_type": "code",
   "execution_count": null,
   "metadata": {},
   "outputs": [],
   "source": []
  },
  {
   "cell_type": "code",
   "execution_count": null,
   "metadata": {},
   "outputs": [],
   "source": []
  },
  {
   "cell_type": "code",
   "execution_count": null,
   "metadata": {},
   "outputs": [],
   "source": []
  },
  {
   "cell_type": "code",
   "execution_count": null,
   "metadata": {},
   "outputs": [],
   "source": []
  },
  {
   "cell_type": "code",
   "execution_count": null,
   "metadata": {},
   "outputs": [],
   "source": []
  },
  {
   "cell_type": "code",
   "execution_count": null,
   "metadata": {},
   "outputs": [],
   "source": []
  }
 ],
 "metadata": {
  "kernelspec": {
   "display_name": "Python 3",
   "language": "python",
   "name": "python3"
  },
  "language_info": {
   "codemirror_mode": {
    "name": "ipython",
    "version": 3
   },
   "file_extension": ".py",
   "mimetype": "text/x-python",
   "name": "python",
   "nbconvert_exporter": "python",
   "pygments_lexer": "ipython3",
   "version": "3.7.5"
  }
 },
 "nbformat": 4,
 "nbformat_minor": 4
}
